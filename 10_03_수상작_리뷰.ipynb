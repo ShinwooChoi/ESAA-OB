{
  "nbformat": 4,
  "nbformat_minor": 0,
  "metadata": {
    "colab": {
      "provenance": [],
      "authorship_tag": "ABX9TyNqsGOJwVi2JUMTk4eIQ91A",
      "include_colab_link": true
    },
    "kernelspec": {
      "name": "python3",
      "display_name": "Python 3"
    },
    "language_info": {
      "name": "python"
    }
  },
  "cells": [
    {
      "cell_type": "markdown",
      "metadata": {
        "id": "view-in-github",
        "colab_type": "text"
      },
      "source": [
        "<a href=\"https://colab.research.google.com/github/ShinwooChoi/ESAA-OB/blob/main/10_03_%EC%88%98%EC%83%81%EC%9E%91_%EB%A6%AC%EB%B7%B0.ipynb\" target=\"_parent\"><img src=\"https://colab.research.google.com/assets/colab-badge.svg\" alt=\"Open In Colab\"/></a>"
      ]
    },
    {
      "cell_type": "markdown",
      "source": [
        "데이콘 대구 교통사고 피해 예측 AI 경진대회\n",
        "https://dacon.io/competitions/official/236193/codeshare/9508?page=1&dtype=recent"
      ],
      "metadata": {
        "id": "VFwsc2G_iVNa"
      }
    },
    {
      "cell_type": "markdown",
      "source": [
        "### 교통사고 위험요인 분석 요약\n",
        "1. EDA 기반 교통사고 위험요인 도출\n",
        "\n",
        "EDA를 통해 공간적, 시간적 특성을 분석하여 사고의 주요 요인을 탐색함.\n",
        "\n",
        "- 사고의 공간적 특성 ①\n",
        "\n",
        "지역별 택시 평균속도·통행량은 사고 심각도(ECLO)에 영향을 미침.\n",
        "\n",
        "속도가 높을수록 사고의 심각도 증가, 교통 환경의 지역적 특성이 뚜렷하게 나타남.\n",
        "\n",
        "인사이트 1: 구별 평균속도·총통행량을 변수화하여 지역별 차이를 반영.\n",
        "\n",
        "- 사고의 공간적 특성 ②\n",
        "\n",
        "사고 유형별 사고빈도와 가해운전자 차종별 사고빈도가 ECLO와 높은 상관관계(0.75, 0.56).\n",
        "\n",
        "인사이트 2: 구별 위험도 파생변수를 생성하여 지역별 사고 유형 차이를 반영.\n",
        "\n",
        "- 사고의 공간적 특성 ③\n",
        "\n",
        "피해운전자 평균 연령이 높을수록 ECLO도 상승함(양의 상관관계).\n",
        "\n",
        "인사이트 3: 구별 피해 운전자 평균 연령을 변수화하여 인구통계학적 요인 반영.\n",
        "\n",
        "2. 사고위험도 예측 모델\n",
        "\n",
        "모델: XGBoost / CatBoost / LightGBM\n",
        "\n",
        "세 모델의 예측 결과를 가중치 앙상블하여 과적합 방지 및 성능 향상.\n",
        "\n",
        "XGBoost: 대용량 데이터 효율적 처리\n",
        "\n",
        "CatBoost: 범주형 변수 처리 강점\n",
        "\n",
        "LightGBM: 빠른 학습 속도\n",
        "\n",
        "가중치: XGB 0.1 / CatBoost 0.4 / LGBM 0.5\n",
        "\n",
        "최종 점수: Public Score 0.425476\n",
        "\n",
        "3. 주요 위험요인 도출 (Feature Importance)\n",
        "\n",
        "세 모델의 중요 변수 비교 결과,\n",
        "\n",
        "공통적으로 “택시 평균 속도”가 주요 위험요인으로 나타남.\n",
        "\n",
        "가해운전자 차종별 위험도 가중치, 사고유형별 위험도, 택시 통행량도 영향력 큼.\n",
        "\n",
        "- 결론적으로 속도 관련 변수가 교통사고 심각도에 핵심적인 영향을 미치며,\n",
        "공간·시간적 요인을 반영한 개선책 필요.\n",
        "\n",
        "\n",
        "### 교통사고 위험요인의 해결책 요약\n",
        "\n",
        "- 기존 시스템의 문제점 분석\n",
        "\n",
        "▶ 가변형 속도 제한(VSL: Variable Speed Limit)\n",
        "\n",
        "기상 및 교통 상황에 따라 제한 속도를 자동으로 조정하는 시스템.\n",
        "\n",
        "2015년 영종대교 다중 추돌사고를 계기로 도입.\n",
        "\n",
        "고속도로·국도 구간에 확대 적용 중.\n",
        "\n",
        "▶ 문제점\n",
        "\n",
        "설치 대상 지역이 한정적 (안개지역, 경사·곡선 구간, 공사구간 등)\n",
        "\n",
        "실시간 반영이 어려워 기상 변화에 대한 대응이 지연됨.\n",
        "\n",
        "일부 운전자는 제한속도 변경을 인지하지 못함.\n",
        "\n",
        "▶ 개선 방향\n",
        "\n",
        "공간적·시간적 요인을 모두 반영한 VSL 운영 필요\n",
        "\n",
        "혼잡·위험 지역에 대한 세밀한 적용 확대\n",
        "\n",
        "전자 표지판 + 내비게이션 연계 시스템 구축을 통해\n",
        "실시간 변화 자동 반영 및 운전자에게 명확히 고지 필요."
      ],
      "metadata": {
        "id": "5xC5aA77h-3c"
      }
    },
    {
      "cell_type": "markdown",
      "source": [
        "###배울점:\n",
        "단일 모델이 아닌 XGBoost / CatBoost / LightGBM을 비교·앙상블하여\n",
        "모델 성능과 안정성을 동시에 확보함.\n",
        "\n",
        "각 모델의 특성(속도, 범주형 처리, 효율성)을 이해하고\n",
        "가중치 기반 앙상블(weight = 0.1, 0.4, 0.5) 로 성능을 개선함.\n",
        "\n",
        "“Public Score”로 모델 성능을 수치로 제시해 객관적 근거를 확보함."
      ],
      "metadata": {
        "id": "Unl0zhRLit0U"
      }
    }
  ]
}