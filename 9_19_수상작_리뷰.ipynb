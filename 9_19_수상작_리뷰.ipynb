{
  "nbformat": 4,
  "nbformat_minor": 0,
  "metadata": {
    "colab": {
      "provenance": [],
      "authorship_tag": "ABX9TyO35BVNDCqAEV89pulMx8bS",
      "include_colab_link": true
    },
    "kernelspec": {
      "name": "python3",
      "display_name": "Python 3"
    },
    "language_info": {
      "name": "python"
    }
  },
  "cells": [
    {
      "cell_type": "markdown",
      "metadata": {
        "id": "view-in-github",
        "colab_type": "text"
      },
      "source": [
        "<a href=\"https://colab.research.google.com/github/ShinwooChoi/ESAA-OB/blob/main/9_19_%EC%88%98%EC%83%81%EC%9E%91_%EB%A6%AC%EB%B7%B0.ipynb\" target=\"_parent\"><img src=\"https://colab.research.google.com/assets/colab-badge.svg\" alt=\"Open In Colab\"/></a>"
      ]
    },
    {
      "cell_type": "markdown",
      "source": [
        "## 데이콘 악성 URL 분류 AI 경진대회\n",
        "\n",
        "https://dacon.io/competitions/official/236451/overview/description"
      ],
      "metadata": {
        "id": "KMmVrhYPPnNo"
      }
    },
    {
      "cell_type": "markdown",
      "source": [
        "##[데이터 전처리]\n",
        "- 파생변수 생성\n",
        "| 변수명                            | 설명                                                                                                       |\n",
        "| ------------------------------ | -------------------------------------------------------------------------------------------------------- |\n",
        "| **subdomain\\_count**           | 서브도메인 개수                                                                                                 |\n",
        "| **special\\_char\\_count**       | 특수문자(-, \\_, /, @) 개수                                                                                     |\n",
        "| **digits\\_count**              | 숫자 개수                                                                                                    |\n",
        "| **uppercase\\_count**           | 대문자 개수                                                                                                   |\n",
        "| **contains\\_ip**               | IP 포함 여부                                                                                                 |\n",
        "| **free\\_url**                  | 무료 URL (tk, ml, ga, cf, gq) 포함 여부                                                                        |\n",
        "| **suspicious\\_keyword\\_count** | 의심스러운 키워드 (free, win, lottery, prize, urgent, secure, login, bank, update, verify, account, password) 개수 |\n",
        "\n",
        "- Truncated SVD를 활용한 차원 축소\n",
        "\n",
        "가장 자주 등장하는 n-gram 10000개 사용\n",
        "\n",
        "차원 축소\n",
        "\n",
        "- 간단한 EDA를 통한 관계성 정리\n",
        "\n",
        "Components와의 관계\n",
        "\n",
        "그밖의 파생변수 간의 관계\n",
        "\n",
        "##[모델링]\n",
        "   - Catboost를 적용한 K-Fold Model\n",
        "\n",
        "최종 변수 선택\n",
        "\n",
        "CatBoost 진행\n",
        "\n",
        "K-Fold를 통한 검증\n",
        "\n",
        "변수 중요도 시각화"
      ],
      "metadata": {
        "id": "vnVdZO2RPnLO"
      }
    }
  ]
}