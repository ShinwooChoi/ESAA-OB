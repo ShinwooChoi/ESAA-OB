{
  "nbformat": 4,
  "nbformat_minor": 0,
  "metadata": {
    "colab": {
      "provenance": [],
      "authorship_tag": "ABX9TyOoDxh0SLV51McCqGaBaX65",
      "include_colab_link": true
    },
    "kernelspec": {
      "name": "python3",
      "display_name": "Python 3"
    },
    "language_info": {
      "name": "python"
    }
  },
  "cells": [
    {
      "cell_type": "markdown",
      "metadata": {
        "id": "view-in-github",
        "colab_type": "text"
      },
      "source": [
        "<a href=\"https://colab.research.google.com/github/ShinwooChoi/ESAA-OB/blob/main/9_26_%EC%88%98%EC%83%81%EC%9E%91_%EB%A6%AC%EB%B7%B0.ipynb\" target=\"_parent\"><img src=\"https://colab.research.google.com/assets/colab-badge.svg\" alt=\"Open In Colab\"/></a>"
      ]
    },
    {
      "cell_type": "markdown",
      "source": [
        "##데이콘 악성 URL 분류 AI 경진대회\n",
        "https://dacon.io/competitions/official/236451/overview/description"
      ],
      "metadata": {
        "id": "D_CO4gA7V9oa"
      }
    },
    {
      "cell_type": "markdown",
      "source": [
        "[TF-IDF 앙상블 모델을 활용한 URL 기반 악성 분류]"
      ],
      "metadata": {
        "id": "FgVJtyuGV0wC"
      }
    },
    {
      "cell_type": "markdown",
      "source": [
        "분석 목표 및 접근 방법\n",
        "- 앙상블 전략 수립: 다양한 모델의 장점 통합\n",
        "- 딥다이브 분석 기법: 심층적 데이터 검증\n",
        "- URL 텍스트 기반 분류: 효율적인 악성 탐지\n",
        "\n",
        "데이터 전처리 핵심 전략\n",
        "- 정규화: URL 도메인 [.] → . 변환으로 표준 형식 적용\n",
        "- 특수 문자 제거: 불필요한 특수 문자 제거 및 공백 처리\n",
        "- 소문자 변환: 대소문자 구분 없는 일관된 데이터셋 구성\n",
        "\n",
        "벡터화 방식: TF-IDF\n",
        "- 문자 패턴: Char_wb n-gram 기반 특징 추출\n",
        "- 벡터 변환: 텍스트를 수치 행렬로 표현\n",
        "- 중요도 가중치: 빈도와 희소성 기반 점수화\n",
        "- 특성 캡처: URL 구조의 세밀한 패턴 인식\n",
        "\n",
        "모델 아키텍처 구성\n",
        "Logistic Regression\n",
        "- 빠르고 효율적인 선형 분류 모델\n",
        "- 계산 비용 최소화\n",
        "- 확률 기반 예측\n",
        "- 오버피팅 방지\n",
        "\n",
        "LightGBM\n",
        "- 고속 처리 부스팅 모델\n",
        "- 리프 중심 트리 분할\n",
        "- 메모리 효율성\n",
        "- 대용량 데이터 처리\n",
        "\n",
        "XGBoost\n",
        "- 정밀도 중심 부스팅 알고리즘\n",
        "- 정교한 정규화\n",
        "- 이상치 강건성\n",
        "- 병렬 처리 최적화\n",
        "\n",
        "앙상블 전략 - Soft Voting\n",
        "- 개별 모델 예측: 각 분류기의 확률값 산출\n",
        "- 확률 평균화: 예측 확률의 가중 평균 계산\n",
        "- 최종 판단: 임계값 기반 악성 여부 결정\n"
      ],
      "metadata": {
        "id": "HLi2kYhrV0t2"
      }
    }
  ]
}