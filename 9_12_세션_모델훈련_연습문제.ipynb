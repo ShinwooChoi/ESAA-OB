{
  "nbformat": 4,
  "nbformat_minor": 0,
  "metadata": {
    "colab": {
      "provenance": [],
      "include_colab_link": true
    },
    "kernelspec": {
      "name": "python3",
      "display_name": "Python 3"
    },
    "language_info": {
      "name": "python"
    }
  },
  "cells": [
    {
      "cell_type": "markdown",
      "metadata": {
        "id": "view-in-github",
        "colab_type": "text"
      },
      "source": [
        "<a href=\"https://colab.research.google.com/github/ShinwooChoi/ESAA-OB/blob/main/9_12_%E1%84%89%E1%85%A6%E1%84%89%E1%85%A7%E1%86%AB_%E1%84%86%E1%85%A9%E1%84%83%E1%85%A6%E1%86%AF%E1%84%92%E1%85%AE%E1%86%AB%E1%84%85%E1%85%A7%E1%86%AB_%E1%84%8B%E1%85%A7%E1%86%AB%E1%84%89%E1%85%B3%E1%86%B8%E1%84%86%E1%85%AE%E1%86%AB%E1%84%8C%E1%85%A6.ipynb\" target=\"_parent\"><img src=\"https://colab.research.google.com/assets/colab-badge.svg\" alt=\"Open In Colab\"/></a>"
      ]
    },
    {
      "cell_type": "markdown",
      "source": [
        "## **모델 훈련 연습 문제**\n",
        "___\n",
        "- 출처 : 핸즈온 머신러닝 Ch04 연습문제 1, 5, 9, 10\n",
        "- 개념 문제의 경우 텍스트 셀을 추가하여 정답을 적어주세요."
      ],
      "metadata": {
        "id": "zCu72vDHGMHo"
      }
    },
    {
      "cell_type": "markdown",
      "source": [
        "### **1. 수백만 개의 특성을 가진 훈련 세트에서는 어떤 선형 회귀 알고리즘을 사용할 수 있을까요?**\n",
        "___\n",
        "\n",
        "확률적 경사 하강법(Stochastic Gradient Descent, SGD): 한 번에 하나의 샘플씩 사용하여 가중치를 업데이트하기 때문에 계산량이 적고 대규모 데이터에서도 효과적임.\n",
        "\n",
        "미니배치 경사 하강법(Mini-batch Gradient Descent): 작은 배치 단위로 가중치를 업데이트하여 성능과 속도의 균형을 맞춤."
      ],
      "metadata": {
        "id": "j3g-_Dq9GiuT"
      }
    },
    {
      "cell_type": "markdown",
      "source": [
        "### **2. 배치 경사 하강법을 사용하고 에포크마다 검증 오차를 그래프로 나타내봤습니다. 검증 오차가 일정하게 상승되고 있다면 어떤 일이 일어나고 있는 걸까요? 이 문제를 어떻게 해결할 수 있나요?**\n",
        "___\n",
        "\n",
        "이는 과적합(Overfitting)이 일어나고 있다는 신호라고 볼 수 있음\n",
        ".\n",
        "\n",
        "해결 방법:\n",
        "\n",
        "정규화(Regularization) 기법 추가: 릿지(Ridge), 라쏘(Lasso), 엘라스틱넷 등.\n",
        "\n",
        "데이터 증가: 더 많은 훈련 데이터를 확보하거나 데이터 증강(Data Augmentation) 활용.\n",
        "\n",
        "조기 종료(Early Stopping): 검증 오차가 더 이상 줄어들지 않으면 훈련을 중단.\n",
        "\n",
        "Dropout / 모델 단순화: 파라미터 수 줄이기, 차원 축소(PCA 등)."
      ],
      "metadata": {
        "id": "-pDjW5XcHPOt"
      }
    },
    {
      "cell_type": "markdown",
      "source": [
        "### **3. 릿지 회귀를 사용했을 때 훈련 오차가 검증 오차가 거의 비슷하고 둘 다 높았습니다. 이 모델에는 높은 편향이 문제인가요, 아니면 높은 분산이 문제인가요? 규제 하이퍼파라미터 $\\alpha$를 증가시켜야 할까요 아니면 줄여야 할까요?**\n",
        "___\n",
        "\n",
        "이는 높은 편향(Bias) 문제, 즉 과소적합(Underfitting)임.\n",
        "\n",
        "규제 강도가 너무 세서 모델이 충분히 학습하지 못한 상태.\n",
        "\n",
        "따라서 하이퍼파라미터 α를 줄여야 함.\n",
        "\n",
        "α가 크면 제약이 강해져 모델이 단순해짐 → 편향 ↑, 분산 ↓\n",
        "\n",
        "α를 줄이면 제약이 완화되어 모델이 더 복잡해지고 학습 성능 개선 가능."
      ],
      "metadata": {
        "id": "nM7JbsLoy7b7"
      }
    },
    {
      "cell_type": "markdown",
      "source": [
        "### **4. 다음과 같이 사용해야 하는 이유는?**\n",
        "___\n",
        "- 평범한 선형 회귀(즉, 아무런 규제가 없는 모델) 대신 릿지 회귀\n",
        "- 릿지 회귀 대신 라쏘 회귀\n",
        "- 라쏘 회귀 대신 엘라스틱넷\n",
        "\n",
        "[평범한 선형 회귀 대신 릿지 회귀를 사용하는 이유]\n",
        "\n",
        "릿지 회귀(Ridge Regression, L2 정규화) 는 과적합을 방지하고 모델의 가중치를 적절히 조절하여 일반화 성능을 높이는 역할을 함.\n",
        "선형 회귀는 노이즈가 있는 데이터에서 가중치가 매우 커질 위험이 있지만, 릿지 회귀는 이를 방지할 수 있음.\n",
        "\n",
        "\n",
        "[릿지 회귀 대신 라쏘 회귀를 사용하는 이유]\n",
        "\n",
        "라쏘 회귀(Lasso Regression, L1 정규화) 는 가중치 중 일부를 0으로 만들어 변수 선택(Feature Selection) 기능을 수행함.\n",
        "불필요한 특성이 많을 경우, 라쏘 회귀를 사용하면 더 해석 가능한 모델을 만들 수 있음.\n",
        "\n",
        "[라쏘 회귀 대신 엘라스틱넷을 사용하는 이유]\n",
        "\n",
        "엘라스틱넷(Elastic Net) 은 릿지와 라쏘의 결합 형태로, L1과 L2 정규화를 동시에 적용함.\n",
        "라쏘 회귀는 특성 개수가 많고 상관관계가 높은 경우 성능이 떨어질 수 있는데, 엘라스틱넷은 이를 보완할 수 있음.\n",
        "즉, 변수 선택 기능이 필요하면서도, 다중 공선성 문제가 있는 경우 엘라스틱넷이 좋은 선택."
      ],
      "metadata": {
        "id": "C8tARu-ZzOGx"
      }
    },
    {
      "cell_type": "markdown",
      "source": [
        "### **추가) 조기 종료를 사용한 배치 경사 하강법으로 iris 데이터를 활용해 소프트맥스 회귀를 구현해보세요(사이킷런은 사용하지 마세요)**\n",
        "\n",
        "\n",
        "---\n",
        "\n"
      ],
      "metadata": {
        "id": "QIZpOEYJVIAV"
      }
    },
    {
      "cell_type": "code",
      "source": [
        "import numpy as np\n",
        "import matplotlib.pyplot as plt\n",
        "from sklearn.datasets import load_iris\n",
        "from sklearn.preprocessing import OneHotEncoder\n",
        "from sklearn.model_selection import train_test_split\n",
        "\n",
        "# 데이터 로드 및 전처리\n",
        "iris = load_iris()\n",
        "X = iris.data  # 특성 데이터 (꽃받침 길이, 너비, 꽃잎 길이, 너비)\n",
        "y = iris.target.reshape(-1, 1)  # 타겟 데이터\n",
        "\n",
        "# 타겟을 원-핫 인코딩 (sparse_output=False 사용)\n",
        "encoder = OneHotEncoder(sparse_output=False)\n",
        "y_one_hot = encoder.fit_transform(y)\n",
        "\n",
        "# 훈련 세트와 검증 세트 분리\n",
        "X_train, X_val, y_train, y_val = train_test_split(X, y_one_hot, test_size=0.2, random_state=42)\n",
        "\n",
        "# 소프트맥스 함수 정의\n",
        "def softmax(z):\n",
        "    exp_z = np.exp(z - np.max(z, axis=1, keepdims=True))  # 오버플로 방지\n",
        "    return exp_z / np.sum(exp_z, axis=1, keepdims=True)\n",
        "\n",
        "# 손실 함수 (크로스 엔트로피) 정의\n",
        "def cross_entropy(y_true, y_pred):\n",
        "    return -np.mean(np.sum(y_true * np.log(y_pred + 1e-9), axis=1))  # 작은 값을 추가해 log 안정화\n",
        "\n",
        "# 하이퍼파라미터 설정\n",
        "learning_rate = 0.1\n",
        "epochs = 500\n",
        "early_stopping_rounds = 10  # 조기 종료 기준 (연속으로 검증 손실이 증가하면 중단)\n",
        "batch_size = X_train.shape[0]  # 배치 경사 하강법 (전체 데이터 사용)\n",
        "n_classes = y_train.shape[1]  # 클래스 개수 (3개)\n",
        "n_features = X_train.shape[1]  # 특성 개수 (4개)\n",
        "\n",
        "# 가중치 초기화\n",
        "W = np.random.randn(n_features, n_classes)\n",
        "b = np.zeros((1, n_classes))\n",
        "\n",
        "# 학습 진행\n",
        "best_val_loss = float('inf')\n",
        "early_stopping_counter = 0\n",
        "train_losses, val_losses = [], []\n",
        "\n",
        "for epoch in range(epochs):\n",
        "    # 선형 연산\n",
        "    logits = np.dot(X_train, W) + b\n",
        "    y_train_pred = softmax(logits)\n",
        "\n",
        "    # 손실 계산\n",
        "    train_loss = cross_entropy(y_train, y_train_pred)\n",
        "\n",
        "    # 그래디언트 계산 (배치 경사 하강법)\n",
        "    grad_W = np.dot(X_train.T, (y_train_pred - y_train)) / batch_size\n",
        "    grad_b = np.sum(y_train_pred - y_train, axis=0, keepdims=True) / batch_size\n",
        "\n",
        "    # 가중치 업데이트\n",
        "    W -= learning_rate * grad_W\n",
        "    b -= learning_rate * grad_b\n",
        "\n",
        "    # 검증 데이터 평가\n",
        "    val_logits = np.dot(X_val, W) + b\n",
        "    y_val_pred = softmax(val_logits)\n",
        "    val_loss = cross_entropy(y_val, y_val_pred)\n",
        "\n",
        "    train_losses.append(train_loss)\n",
        "    val_losses.append(val_loss)\n",
        "\n",
        "    # 조기 종료 조건 확인\n",
        "    if val_loss < best_val_loss:\n",
        "        best_val_loss = val_loss\n",
        "        early_stopping_counter = 0\n",
        "    else:\n",
        "        early_stopping_counter += 1\n",
        "\n",
        "    if early_stopping_counter >= early_stopping_rounds:\n",
        "        print(f\"조기 종료 발생 (Epoch {epoch})\")\n",
        "        break\n",
        "\n",
        "# 학습 과정 시각화\n",
        "plt.plot(train_losses, label=\"Training Loss\")\n",
        "plt.plot(val_losses, label=\"Validation Loss\")\n",
        "plt.xlabel(\"Epochs\")\n",
        "plt.ylabel(\"Loss\")\n",
        "plt.legend()\n",
        "plt.title(\"Training and Validation Loss\")\n",
        "plt.show()\n",
        "\n",
        "# 최종 학습된 가중치 출력\n",
        "print(\"최종 학습된 가중치:\\n\", W)\n",
        "print(\"최종 학습된 편향:\\n\", b)"
      ],
      "metadata": {
        "id": "8pXDQ_fU8Nz0",
        "colab": {
          "base_uri": "https://localhost:8080/",
          "height": 599
        },
        "outputId": "ddaaf2d1-293e-4b94-a8bf-5ac79c9c609d"
      },
      "execution_count": 1,
      "outputs": [
        {
          "output_type": "display_data",
          "data": {
            "text/plain": [
              "<Figure size 640x480 with 1 Axes>"
            ],
            "image/png": "[encoded data removed]"
          },
          "metadata": {}
        },
        {
          "output_type": "stream",
          "name": "stdout",
          "text": [
            "최종 학습된 가중치:\n",
            " [[ 0.5776088   0.89077737 -0.94604514]\n",
            " [ 1.64982248 -0.65872633 -1.758161  ]\n",
            " [-2.64785015 -1.22331769  1.24471309]\n",
            " [-2.10213729 -0.49957824  1.81844095]]\n",
            "최종 학습된 편향:\n",
            " [[ 0.27169203  0.50343943 -0.77513147]]\n"
          ]
        }
      ]
    }
  ]
}