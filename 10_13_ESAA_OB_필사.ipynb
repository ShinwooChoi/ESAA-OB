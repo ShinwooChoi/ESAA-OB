{
  "nbformat": 4,
  "nbformat_minor": 0,
  "metadata": {
    "colab": {
      "provenance": [],
      "authorship_tag": "ABX9TyOFzlMn8L/Yk68Xn3qsA7UC",
      "include_colab_link": true
    },
    "kernelspec": {
      "name": "python3",
      "display_name": "Python 3"
    },
    "language_info": {
      "name": "python"
    }
  },
  "cells": [
    {
      "cell_type": "markdown",
      "metadata": {
        "id": "view-in-github",
        "colab_type": "text"
      },
      "source": [
        "<a href=\"https://colab.research.google.com/github/ShinwooChoi/ESAA-OB/blob/main/10_13_ESAA_OB_%ED%95%84%EC%82%AC.ipynb\" target=\"_parent\"><img src=\"https://colab.research.google.com/assets/colab-badge.svg\" alt=\"Open In Colab\"/></a>"
      ]
    },
    {
      "cell_type": "markdown",
      "source": [
        "범위: <파이썬 머신러닝 완벽 가이드> 9장 p.584-601"
      ],
      "metadata": {
        "id": "2VyOF0rPRNkp"
      }
    },
    {
      "cell_type": "markdown",
      "source": [
        "### 01 추천 시스템의 개요와 배경\n",
        "\n",
        "### 추천 시스템의 개요\n",
        "- 현대 사회는 ‘추천 시스템(Recommendation System)’의 전성시대  \n",
        "- 유튜브, 애플뮤직, 넷플릭스 등은 사용자의 취향을 분석해 맞춤형 상품과 콘텐츠를 제공  \n",
        "- 추천 시스템은 사용자를 오래 머물게 하여 매출을 극대화하는 핵심 기술로 발전  \n",
        "\n",
        "### 추천 시스템의 효과\n",
        "- 전자상거래 업계는 추천 시스템을 통해 **매출 상승**과 **사용자 만족도 향상** 달성  \n",
        "- 사용자의 클릭, 구매, 시청 기록을 기반으로 개인화된 추천 제공  \n",
        "- 예시:  \n",
        "  - 유튜브: 사용자가 자주 듣는 노래와 유사한 음악 추천  \n",
        "  - 넷플릭스: 시청한 영화 장르와 비슷한 콘텐츠 추천  \n",
        "  - 아마존: ‘이 상품을 본 고객이 함께 본 상품’ 형태의 추천  \n",
        "\n",
        "### 온라인 스토어에서의 필요성\n",
        "- 온라인 스토어는 너무 많은 상품으로 인해 사용자가 선택 피로를 느낌  \n",
        "- 추천 시스템은 사용자가 원하는 상품을 빠르게 찾을 수 있도록 도와줌  \n",
        "- 즉, **사용자의 선택 부담을 줄이고 쇼핑의 즐거움 향상**\n",
        "\n",
        "\n",
        "\n",
        "### 02 추천 시스템의 유형\n",
        "\n",
        "### 1) 콘텐츠 기반 필터링(Content-based Filtering)\n",
        "- 사용자가 과거에 좋아한 아이템과 **유사한 속성**을 가진 아이템을 추천  \n",
        "- 예: 사용자가 특정 영화를 높게 평가했다면, 그 영화의 장르·감독·배우와 유사한 영화 추천  \n",
        "- 장점: 개인 취향 반영이 뛰어남  \n",
        "- 단점: 새로운 아이템에 대한 정보 부족 시 추천 어려움 (콜드스타트 문제)  \n",
        "\n",
        "### 2) 협업 필터링(Collaborative Filtering)\n",
        "- 사용자 간의 **유사성(Similarity)** 또는 **아이템 간 유사성**을 기반으로 추천  \n",
        "- 주요 방식  \n",
        "  - **사용자 기반(User-based)**: 나와 비슷한 사용자가 좋아한 아이템 추천  \n",
        "  - **아이템 기반(Item-based)**: 내가 좋아한 아이템과 비슷한 아이템 추천  \n",
        "\n",
        "\n",
        "\n",
        "### 03 최근접 이웃 협업 필터링\n",
        "\n",
        "### 개념\n",
        "- 사용자의 평가 패턴을 기반으로 **비슷한 취향을 가진 사용자** 또는 **유사한 아이템**을 찾아 추천  \n",
        "- 예: 사용자가 영화 ‘인터스텔라’를 좋아하면, 비슷한 평가를 한 다른 사용자가 좋아한 영화 추천  \n",
        "\n",
        "### 방식\n",
        "- 사용자-아이템 평점 데이터를 행렬로 구성  \n",
        "- 대부분의 행렬은 희소(sparse) 형태이므로 효율적인 연산 필요  \n",
        "- 예시:  \n",
        "  - 사용자 A와 B가 비슷한 영화에 높은 점수를 주었다면, A에게 B가 좋아한 다른 영화를 추천  \n",
        "\n",
        "### 최근접 이웃 기반 협업 필터링의 구분\n",
        "- **사용자 기반 협업 필터링(User-User CF)**  \n",
        "  → 나와 비슷한 사람을 찾아 그 사람이 좋아한 아이템 추천  \n",
        "- **아이템 기반 협업 필터링(Item-Item CF)**  \n",
        "  → 내가 좋아한 아이템과 유사한 아이템 추천  \n",
        "\n",
        "\n",
        "\n",
        "### 04 잠재 요인 협업 필터링(Latent Factor Model)\n",
        "\n",
        "### 개념\n",
        "- 사용자-아이템 평점 행렬을 **행렬 분해(Matrix Factorization)** 기법으로 차원 축소  \n",
        "- 숨겨진 패턴(잠재 요인)을 찾아 사용자와 아이템의 특성을 공통 요인으로 표현  \n",
        "- 넷플릭스 추천 경연대회에서 널리 사용된 방식으로, 추천 정확도를 크게 향상  \n",
        "\n",
        "### 특징\n",
        "- 희소 행렬 문제를 효과적으로 해결  \n",
        "- 사용자와 아이템의 내재된 요인(예: 장르 선호, 배우 성향 등)을 수학적으로 모델링  \n",
        "- 대표 알고리즘: SVD(Singular Value Decomposition), ALS(Alternating Least Squares)  \n",
        "\n",
        "### 예시\n",
        "- 사용자가 특정 배우와 장르를 선호한다면, 해당 잠재 요인을 공유하는 영화 추천  \n",
        "- 즉, 직접적으로 평가하지 않은 영화라도 **유사한 잠재 요인**을 통해 추천 가능  \n",
        "\n"
      ],
      "metadata": {
        "id": "j5TBtRucRNCQ"
      }
    },
    {
      "cell_type": "code",
      "execution_count": 3,
      "metadata": {
        "id": "GcypduMxjpHf"
      },
      "outputs": [],
      "source": [
        "import numpy as np\n",
        "\n",
        "#원본 행렬 R 생성, 분해 행렬 P와 Q 초기화, 잠재 요인 차원 K는 3으로 설정\n",
        "R=np.array([[4, np.nan, np.nan, 2, np.nan],\n",
        "              [np.nan, 5, np.nan, 3, 1],\n",
        "              [np.nan, np.nan, 3, 4, 4],\n",
        "              [5, 2, 1, 2, np.nan]])\n",
        "num_users, num_items=R.shape\n",
        "K=3\n",
        "\n",
        "#P와 Q 행렬의 크기를 지정하고 정규 분포를 가진 임의의 값으로 입력\n",
        "np.random.seed(1)\n",
        "P=np.random.normal(scale=1./K, size=(num_users, K))\n",
        "Q=np.random.normal(scale=1./K, size=(num_items, K))"
      ]
    },
    {
      "cell_type": "code",
      "source": [
        "from sklearn.metrics import mean_squared_error\n",
        "\n",
        "def get_rmse(R, P, Q, non_zeros):\n",
        "    error=0\n",
        "    #두 개의 분해된 행렬 P와 Q.T의 내적으로 예측 R 행렬 생성\n",
        "    full_pred_matrix=np.dot(P, Q.T)\n",
        "\n",
        "    #실제 R 행렬에서 널이 아닌 값의 위치 인덱스 추출해 실제 R 행렬과 예측 행렬의 RMSE 추출\n",
        "    x_non_zero_ind=[non_zero[0] for non_zero in non_zeros]\n",
        "    y_non_zero_ind=[non_zero[1] for non_zero in non_zeros]\n",
        "    R_non_zeros=R[x_non_zero_ind, y_non_zero_ind]\n",
        "    full_pred_matrix_non_zeros=full_pred_matrix[x_non_zero_ind, y_non_zero_ind]\n",
        "    mse=mean_squared_error(R_non_zeros, full_pred_matrix_non_zeros)\n",
        "    rmse=np.sqrt(mse)\n",
        "\n",
        "    return rmse"
      ],
      "metadata": {
        "id": "J1KYh5L5j8In"
      },
      "execution_count": 4,
      "outputs": []
    },
    {
      "cell_type": "code",
      "source": [
        "#R>0인 행 위치, 열 위치, 값을 non_zeros 리스트에 저장\n",
        "non_zeros=[(i, j, R[i,j]) for i in range(num_users) for j in range(num_items) if R[i,j]>0]\n",
        "\n",
        "steps=1000\n",
        "learning_rate=0.01\n",
        "r_lambda=0.01\n",
        "\n",
        "#SGD 기법으로 P와 Q 매트릭스를 계속 업데이트\n",
        "for step in range(steps):\n",
        "    for i, j, r in non_zeros:\n",
        "        #실제 값과 예측 값의 차이인 오류 값 구함\n",
        "        eij=r - np.dot(P[i, :], Q[j, :].T)\n",
        "        #Regularization을 반영한 SGD 업데이트 공식 적용\n",
        "        P[i,:]=P[i,:]+learning_rate*(eij*Q[j,:]-r_lambda*P[i,:])\n",
        "        Q[j,:]=Q[j,:]+learning_rate*(eij*P[i,:]-r_lambda*Q[j,:])\n",
        "\n",
        "    rmse=get_rmse(R, P, Q, non_zeros)\n",
        "    if (step % 50)==0:\n",
        "        print(\"### iteration step: \", step, \" rmse: \", rmse)"
      ],
      "metadata": {
        "colab": {
          "base_uri": "https://localhost:8080/"
        },
        "id": "uJIxRIAhj8SO",
        "outputId": "ff29308e-f6c9-4a9e-f8bc-359da55dbf57"
      },
      "execution_count": 5,
      "outputs": [
        {
          "output_type": "stream",
          "name": "stdout",
          "text": [
            "### iteration step:  0  rmse:  3.2388050277987723\n",
            "### iteration step:  50  rmse:  0.4876723101369648\n",
            "### iteration step:  100  rmse:  0.1564340384819247\n",
            "### iteration step:  150  rmse:  0.07455141311978046\n",
            "### iteration step:  200  rmse:  0.04325226798579314\n",
            "### iteration step:  250  rmse:  0.029248328780878973\n",
            "### iteration step:  300  rmse:  0.022621116143829466\n",
            "### iteration step:  350  rmse:  0.019493636196525135\n",
            "### iteration step:  400  rmse:  0.018022719092132704\n",
            "### iteration step:  450  rmse:  0.01731968595344266\n",
            "### iteration step:  500  rmse:  0.016973657887570753\n",
            "### iteration step:  550  rmse:  0.016796804595895633\n",
            "### iteration step:  600  rmse:  0.01670132290188466\n",
            "### iteration step:  650  rmse:  0.01664473691247669\n",
            "### iteration step:  700  rmse:  0.016605910068210026\n",
            "### iteration step:  750  rmse:  0.016574200475705\n",
            "### iteration step:  800  rmse:  0.01654431582921597\n",
            "### iteration step:  850  rmse:  0.01651375177473524\n",
            "### iteration step:  900  rmse:  0.01648146573819501\n",
            "### iteration step:  950  rmse:  0.016447171683479155\n"
          ]
        }
      ]
    },
    {
      "cell_type": "code",
      "source": [
        "pred_matrix=np.dot(P, Q.T)\n",
        "print('예측 행렬:\\n', np.round(pred_matrix, 3))"
      ],
      "metadata": {
        "colab": {
          "base_uri": "https://localhost:8080/"
        },
        "id": "K3z1J04Hjr8e",
        "outputId": "1978be4d-6c3d-44d8-cdc3-689d99fc1983"
      },
      "execution_count": 6,
      "outputs": [
        {
          "output_type": "stream",
          "name": "stdout",
          "text": [
            "예측 행렬:\n",
            " [[3.991 0.897 1.306 2.002 1.663]\n",
            " [6.696 4.978 0.979 2.981 1.003]\n",
            " [6.677 0.391 2.987 3.977 3.986]\n",
            " [4.968 2.005 1.006 2.017 1.14 ]]\n"
          ]
        }
      ]
    }
  ]
}