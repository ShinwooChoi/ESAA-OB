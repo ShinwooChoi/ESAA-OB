{
  "nbformat": 4,
  "nbformat_minor": 0,
  "metadata": {
    "colab": {
      "provenance": [],
      "authorship_tag": "ABX9TyNrjetfig5ZQKiSU5HR9755",
      "include_colab_link": true
    },
    "kernelspec": {
      "name": "python3",
      "display_name": "Python 3"
    },
    "language_info": {
      "name": "python"
    }
  },
  "cells": [
    {
      "cell_type": "markdown",
      "metadata": {
        "id": "view-in-github",
        "colab_type": "text"
      },
      "source": [
        "<a href=\"https://colab.research.google.com/github/ShinwooChoi/ESAA-OB/blob/main/9_26_ESAA_OB_%ED%95%84%EC%82%AC.ipynb\" target=\"_parent\"><img src=\"https://colab.research.google.com/assets/colab-badge.svg\" alt=\"Open In Colab\"/></a>"
      ]
    },
    {
      "cell_type": "markdown",
      "source": [
        "범위: <파이썬 머신러닝 완벽 가이드> 8장 p.488-508"
      ],
      "metadata": {
        "id": "205z6RhMQj7j"
      }
    },
    {
      "cell_type": "markdown",
      "source": [
        "텍스트 분석 이해\n",
        "  - 정의: 비정형 텍스트 데이터를 머신러닝에 적용하기 위한 과정\n",
        "  - 핵심: 텍스트를 수치 벡터로 변환(피처 벡터화)\n",
        "  - 기법: BOW, Word2Vec\n",
        "\n",
        "텍스트 분석 수행 프로세스\n",
        "  - 텍스트 사전 준비(전처리): 클렌징, 토큰화, 불용어 제거, 어근 추출\n",
        "  - 피처 벡터화/추출: BOW, TF-IDF, Word2Vec 등\n",
        "  - ML 모델 학습/평가: 벡터화된 데이터로 모델 학습 및 예측\n",
        "\n",
        "주요 NLP 패키지\n",
        "  - NLTK: 전통적 NLP 패키지, 데이터셋·모듈 방대 (속도 한계 있음)\n",
        "  - Gensim: 토픽 모델링, Word2Vec 지원\n",
        "  - SpaCy: 빠른 성능, 최근 업무 활용多\n",
        "\n",
        "텍스트 전처리(정규화)\n",
        "  - 클렌징: 불필요 문자, 기호 제거 (예: HTML 태그)\n",
        "  - 문장 토큰화: 문장 단위 분리\n",
        "  - 단어 토큰화: 공백, 구두점 기준 단어 분리\n",
        "  - 불용어 제거: 의미 없는 단어 제거 (예: the, is, a 등)\n",
        "  - Stemming: 단순 규칙 기반 어근 추출 (예: working → work)\n",
        "  - Lemmatization: 문법·의미 고려한 정확한 원형 복원 (예: better → good)\n",
        "Bag of Words (BOW)\n",
        "  - 문서의 모든 단어를 순서/문맥 무시하고 단순 단어 등장 횟수로 표현\n",
        "  - 장점: 구현 간단, 단어 빈도 기반으로 문서 특징 잘 표현\n",
        "  - 단점: 문맥 반영 불가, 희소 행렬 발생 → 비효율적\n",
        "\n",
        "BOW 피처 벡터화\n",
        "  - 모든 문서에서 단어를 추출 → 각 문서를 단어 벡터로 변환\n",
        "  - 카운트 기반 벡터화: 단어 등장 횟수로 표현\n",
        "  - TF-IDF 벡터화: 자주 등장하는 단어 가중치 낮추고, 드문 단어 가중치 높임\n",
        "\n",
        "CountVectorizer & TfidfVectorizer\n",
        "  - CountVectorizer: 카운트 기반 벡터화\n",
        "  - TfidfVectorizer: TF-IDF 기반 벡터화\n",
        "  - 사이킷런에서 제공, 텍스트 전처리와 피처 변환 동시에 가능\n",
        "\n",
        "희소 행렬 (Sparse Matrix)\n",
        "  - 대부분 값이 0인 행렬\n",
        "  - 문서-단어 벡터화 후 발생\n",
        "  - 효율적 저장과 연산 필요\n",
        "\n",
        "COO 형식 (Coordinate)\n",
        "  - 0이 아닌 데이터만 (row, col, value) 형태로 저장\n",
        "  - 메모리 절약 가능\n",
        "  - Scipy의 sparse 모듈로 변환 가능\n",
        "\n",
        "CSR 형식 (Compressed Sparse Row)\n",
        "  - COO에서 행 기준으로 압축\n",
        "  - 0이 아닌 값 + 열 인덱스 + 행 시작 위치로 표현\n",
        "  - 대규모 데이터 처리에 효율적\n"
      ],
      "metadata": {
        "id": "VziKm1saSso-"
      }
    },
    {
      "cell_type": "code",
      "execution_count": 1,
      "metadata": {
        "colab": {
          "base_uri": "https://localhost:8080/"
        },
        "id": "9X_uYPQCQDNo",
        "outputId": "556086fa-d1ce-445d-c4f3-67b2aeb4aec4"
      },
      "outputs": [
        {
          "output_type": "stream",
          "name": "stderr",
          "text": [
            "[nltk_data] Downloading package punkt to /root/nltk_data...\n",
            "[nltk_data]   Unzipping tokenizers/punkt.zip.\n",
            "[nltk_data] Downloading package punkt_tab to /root/nltk_data...\n",
            "[nltk_data]   Unzipping tokenizers/punkt_tab.zip.\n"
          ]
        },
        {
          "output_type": "stream",
          "name": "stdout",
          "text": [
            "<class 'list'> 3\n",
            "['The Matrix is everywhere its all around us, here even in this room.', 'You can see it out your window or on your television.', 'You feel it when you go to work, or go to church or pay your taxes.']\n"
          ]
        }
      ],
      "source": [
        "from nltk import sent_tokenize\n",
        "import nltk\n",
        "nltk.download('punkt')\n",
        "nltk.download('punkt_tab')\n",
        "\n",
        "text_sample='The Matrix is everywhere its all around us, here even in this room. \\\n",
        "            You can see it out your window or on your television. \\\n",
        "            You feel it when you go to work, or go to church or pay your taxes.'\n",
        "sentences=sent_tokenize(text=text_sample)\n",
        "print(type(sentences), len(sentences))\n",
        "print(sentences)"
      ]
    },
    {
      "cell_type": "code",
      "source": [
        "from nltk import word_tokenize\n",
        "\n",
        "sentence=\"The Matrix is everywhere its all around us, here even in this room.\"\n",
        "words=word_tokenize(sentence)\n",
        "print(type(words), len(words))\n",
        "print(words)"
      ],
      "metadata": {
        "colab": {
          "base_uri": "https://localhost:8080/"
        },
        "id": "oi9PAPa-QNky",
        "outputId": "0d5d51dd-a966-40ef-af80-ea53bb8c420e"
      },
      "execution_count": 2,
      "outputs": [
        {
          "output_type": "stream",
          "name": "stdout",
          "text": [
            "<class 'list'> 15\n",
            "['The', 'Matrix', 'is', 'everywhere', 'its', 'all', 'around', 'us', ',', 'here', 'even', 'in', 'this', 'room', '.']\n"
          ]
        }
      ]
    },
    {
      "cell_type": "code",
      "source": [
        "from nltk import word_tokenize, sent_tokenize\n",
        "\n",
        "#여러 개의 문장으로 된 입력 데이터를 문장 별로 단어 토큰화하게 만드는 함수 생성\n",
        "def tokenize_text(text):\n",
        "\n",
        "    #문장 별로 분리 토큰\n",
        "    sentences=sent_tokenize(text)\n",
        "    #분리된 문장 별 단어 토큰화\n",
        "    word_tokens=[word_tokenize(sentence) for sentence in sentences]\n",
        "    return word_tokens\n",
        "\n",
        "#여러 문장에 대해 문장 별 단어 토큰화 수행\n",
        "word_tokens=tokenize_text(text_sample)\n",
        "print(type(word_tokens), len(word_tokens))\n",
        "print(word_tokens)"
      ],
      "metadata": {
        "colab": {
          "base_uri": "https://localhost:8080/"
        },
        "id": "cQtST1q9QPCV",
        "outputId": "98f9a045-95d1-410a-9467-c8c9862f948a"
      },
      "execution_count": 3,
      "outputs": [
        {
          "output_type": "stream",
          "name": "stdout",
          "text": [
            "<class 'list'> 3\n",
            "[['The', 'Matrix', 'is', 'everywhere', 'its', 'all', 'around', 'us', ',', 'here', 'even', 'in', 'this', 'room', '.'], ['You', 'can', 'see', 'it', 'out', 'your', 'window', 'or', 'on', 'your', 'television', '.'], ['You', 'feel', 'it', 'when', 'you', 'go', 'to', 'work', ',', 'or', 'go', 'to', 'church', 'or', 'pay', 'your', 'taxes', '.']]\n"
          ]
        }
      ]
    },
    {
      "cell_type": "code",
      "source": [
        "import nltk\n",
        "nltk.download('stopwords')"
      ],
      "metadata": {
        "colab": {
          "base_uri": "https://localhost:8080/"
        },
        "id": "pUN2vcvgQQST",
        "outputId": "318aeb70-58de-4eb0-f60e-91a1b3472cae"
      },
      "execution_count": 4,
      "outputs": [
        {
          "output_type": "stream",
          "name": "stderr",
          "text": [
            "[nltk_data] Downloading package stopwords to /root/nltk_data...\n",
            "[nltk_data]   Unzipping corpora/stopwords.zip.\n"
          ]
        },
        {
          "output_type": "execute_result",
          "data": {
            "text/plain": [
              "True"
            ]
          },
          "metadata": {},
          "execution_count": 4
        }
      ]
    },
    {
      "cell_type": "code",
      "source": [
        "print('영어 stop words 개수:', len(nltk.corpus.stopwords.words('english')))\n",
        "print(nltk.corpus.stopwords.words('english')[:20])"
      ],
      "metadata": {
        "colab": {
          "base_uri": "https://localhost:8080/"
        },
        "id": "wQbmoVRGQRmD",
        "outputId": "a87e3eae-1d45-4aa3-fdb6-8a7c6bc6b62c"
      },
      "execution_count": 5,
      "outputs": [
        {
          "output_type": "stream",
          "name": "stdout",
          "text": [
            "영어 stop words 개수: 198\n",
            "['a', 'about', 'above', 'after', 'again', 'against', 'ain', 'all', 'am', 'an', 'and', 'any', 'are', 'aren', \"aren't\", 'as', 'at', 'be', 'because', 'been']\n"
          ]
        }
      ]
    },
    {
      "cell_type": "code",
      "source": [
        "import nltk\n",
        "\n",
        "stopwords=nltk.corpus.stopwords.words('english')\n",
        "all_tokens=[]\n",
        "#위 예제에서 3개의 문장 별로 얻은 word_tokens list에 대해 스톱 워드를 제거하는 반복문\n",
        "for sentence in word_tokens:\n",
        "    filtered_words=[]\n",
        "    #개별 문장 별로 토큰화된 문장 list에 대해 스톱 워드를 제거하는 반복문\n",
        "    for word in sentence:\n",
        "        #소문자로 모두 변환합니다.\n",
        "        word=word.lower()\n",
        "        #토큰화된 개별 단어가 스톱 워드의 단어에 포함되지 않으면 word_tokens에 추가\n",
        "        if word not in stopwords:\n",
        "            filtered_words.append(word)\n",
        "    all_tokens.append(filtered_words)\n",
        "\n",
        "print(all_tokens)"
      ],
      "metadata": {
        "colab": {
          "base_uri": "https://localhost:8080/"
        },
        "id": "o77O410ZQTEN",
        "outputId": "b39e7018-66a0-4e18-9c5a-fdf7367d3d48"
      },
      "execution_count": 6,
      "outputs": [
        {
          "output_type": "stream",
          "name": "stdout",
          "text": [
            "[['matrix', 'everywhere', 'around', 'us', ',', 'even', 'room', '.'], ['see', 'window', 'television', '.'], ['feel', 'go', 'work', ',', 'go', 'church', 'pay', 'taxes', '.']]\n"
          ]
        }
      ]
    },
    {
      "cell_type": "code",
      "source": [
        "from nltk.stem import LancasterStemmer\n",
        "stemmer=LancasterStemmer()\n",
        "\n",
        "print(stemmer.stem('working'), stemmer.stem('works'), stemmer.stem('worked'))\n",
        "print(stemmer.stem('amusing'), stemmer.stem('amuses'), stemmer.stem('amused'))\n",
        "print(stemmer.stem('happier'), stemmer.stem('happiest'))\n",
        "print(stemmer.stem('fancier'), stemmer.stem('fanciest'))"
      ],
      "metadata": {
        "colab": {
          "base_uri": "https://localhost:8080/"
        },
        "id": "A2GeU_XuQUhg",
        "outputId": "cf47e3c8-8012-4e41-fb8d-55cd876b6ee2"
      },
      "execution_count": 7,
      "outputs": [
        {
          "output_type": "stream",
          "name": "stdout",
          "text": [
            "work work work\n",
            "amus amus amus\n",
            "happy happiest\n",
            "fant fanciest\n"
          ]
        }
      ]
    },
    {
      "cell_type": "code",
      "source": [
        "from nltk.stem import WordNetLemmatizer\n",
        "import nltk\n",
        "nltk.download('wordnet')\n",
        "\n",
        "lemma=WordNetLemmatizer()\n",
        "print(lemma.lemmatize('amusing', 'v'), lemma.lemmatize('amuses', 'v'), lemma.lemmatize('amused', 'v'))\n",
        "print(lemma.lemmatize('happier', 'a'), lemma.lemmatize('happiest', 'a'))\n",
        "print(lemma.lemmatize('fancier', 'a'), lemma.lemmatize('fanciest', 'a'))"
      ],
      "metadata": {
        "colab": {
          "base_uri": "https://localhost:8080/"
        },
        "id": "xMqmCo5GQV6O",
        "outputId": "1c66cc3f-5d81-4358-b37d-659a0ffc4cbc"
      },
      "execution_count": 8,
      "outputs": [
        {
          "output_type": "stream",
          "name": "stderr",
          "text": [
            "[nltk_data] Downloading package wordnet to /root/nltk_data...\n"
          ]
        },
        {
          "output_type": "stream",
          "name": "stdout",
          "text": [
            "amuse amuse amuse\n",
            "happy happy\n",
            "fancy fancy\n"
          ]
        }
      ]
    },
    {
      "cell_type": "code",
      "source": [
        "import numpy as np\n",
        "\n",
        "dense=np.array([[3,0,1], [0,2,0]])"
      ],
      "metadata": {
        "id": "62M4ZzM4QXjt"
      },
      "execution_count": 9,
      "outputs": []
    },
    {
      "cell_type": "code",
      "source": [
        "from scipy import sparse\n",
        "\n",
        "#0이 아닌 데이터 추출\n",
        "data=np.array([3,1,2])\n",
        "\n",
        "#행 위치와 열 위치를 각각 배열로 생성\n",
        "row_pos=np.array([0,0,1])\n",
        "col_pos=np.array([0,2,1])\n",
        "\n",
        "#sparse 패키지의 coo_matrix를 이용해 COO 형식으로 희소 행렬 생성\n",
        "sparse_coo=sparse.coo_matrix((data, (row_pos, col_pos)))"
      ],
      "metadata": {
        "id": "uN0mYsRkQYyg"
      },
      "execution_count": 10,
      "outputs": []
    },
    {
      "cell_type": "code",
      "source": [
        "sparse_coo.toarray()"
      ],
      "metadata": {
        "colab": {
          "base_uri": "https://localhost:8080/"
        },
        "id": "cfpXTeKaQaKs",
        "outputId": "a52aff28-a0e2-4f9e-915b-fee87940535d"
      },
      "execution_count": 11,
      "outputs": [
        {
          "output_type": "execute_result",
          "data": {
            "text/plain": [
              "array([[3, 0, 1],\n",
              "       [0, 2, 0]])"
            ]
          },
          "metadata": {},
          "execution_count": 11
        }
      ]
    },
    {
      "cell_type": "code",
      "source": [
        "[[0,0,1,0,0,5], [1,4,0,3,2,5], [0,6,0,3,0,0], [2,0,0,0,0,0], [0,0,0,7,0,8], [1,0,0,0,0,0]]"
      ],
      "metadata": {
        "colab": {
          "base_uri": "https://localhost:8080/"
        },
        "id": "4Cy9M_w-QbTB",
        "outputId": "59d56922-71af-48d4-e4bd-857c0c11cd3b"
      },
      "execution_count": 12,
      "outputs": [
        {
          "output_type": "execute_result",
          "data": {
            "text/plain": [
              "[[0, 0, 1, 0, 0, 5],\n",
              " [1, 4, 0, 3, 2, 5],\n",
              " [0, 6, 0, 3, 0, 0],\n",
              " [2, 0, 0, 0, 0, 0],\n",
              " [0, 0, 0, 7, 0, 8],\n",
              " [1, 0, 0, 0, 0, 0]]"
            ]
          },
          "metadata": {},
          "execution_count": 12
        }
      ]
    },
    {
      "cell_type": "code",
      "source": [
        "from scipy import sparse\n",
        "\n",
        "dense2=np.array([[0, 0, 1, 0, 0, 5],\n",
        "                [1, 4, 0, 3, 2, 5],\n",
        "                [0, 6, 0, 3, 0, 0],\n",
        "                [2, 0, 0, 0, 0, 0],\n",
        "                [0, 0, 0, 7, 0, 8],\n",
        "                [1, 0, 0, 0, 0, 0]])\n",
        "\n",
        "#0이 아닌 데이터 추출\n",
        "data2=np.array([1,5,1,4,3,2,5,6,3,2,7,8,1])\n",
        "\n",
        "#행 위치와 열 위치를 각각 array로 생성\n",
        "row_pos=np.array([0,0,1,1,1,1,1,2,2,3,4,4,5])\n",
        "col_pos=np.array([2,5,0,1,3,4,5,1,3,0,3,5,0])\n",
        "\n",
        "#COO 형식으로 변환\n",
        "sparse_coo=sparse.coo_matrix((data2, (row_pos, col_pos)))\n",
        "\n",
        "#행 위치 배열의 고유한 값의 시작 위치 인덱스를 배열로 생성\n",
        "row_pos_ind=np.array([0,2,7,9,10,12,13])\n",
        "\n",
        "#CRS 형식으로 변환\n",
        "sparse_csr=sparse.csr_matrix((data2, col_pos, row_pos_ind))\n",
        "\n",
        "print('COO 변환된 데이터가 제대로 되었는지 다시 Dense로 출력 확인')\n",
        "print(sparse_coo.toarray())\n",
        "print('CSR 변환된 데이터가 제대로 되었는지 다시 Dense로 출력 확인')\n",
        "print(sparse_coo.toarray())"
      ],
      "metadata": {
        "colab": {
          "base_uri": "https://localhost:8080/"
        },
        "id": "AIqwAj1aQclS",
        "outputId": "ffbd6b39-b007-42ad-da48-f4915b255edc"
      },
      "execution_count": 13,
      "outputs": [
        {
          "output_type": "stream",
          "name": "stdout",
          "text": [
            "COO 변환된 데이터가 제대로 되었는지 다시 Dense로 출력 확인\n",
            "[[0 0 1 0 0 5]\n",
            " [1 4 0 3 2 5]\n",
            " [0 6 0 3 0 0]\n",
            " [2 0 0 0 0 0]\n",
            " [0 0 0 7 0 8]\n",
            " [1 0 0 0 0 0]]\n",
            "CSR 변환된 데이터가 제대로 되었는지 다시 Dense로 출력 확인\n",
            "[[0 0 1 0 0 5]\n",
            " [1 4 0 3 2 5]\n",
            " [0 6 0 3 0 0]\n",
            " [2 0 0 0 0 0]\n",
            " [0 0 0 7 0 8]\n",
            " [1 0 0 0 0 0]]\n"
          ]
        }
      ]
    },
    {
      "cell_type": "code",
      "source": [
        "dense3=np.array([[0, 0, 1, 0, 0, 5],\n",
        "                [1, 4, 0, 3, 2, 5],\n",
        "                [0, 6, 0, 3, 0, 0],\n",
        "                [2, 0, 0, 0, 0, 0],\n",
        "                [0, 0, 0, 7, 0, 8],\n",
        "                [1, 0, 0, 0, 0, 0]])\n",
        "\n",
        "coo=sparse.coo_matrix(dense3)\n",
        "csr=sparse.csr_matrix(dense3)"
      ],
      "metadata": {
        "id": "8mDtSsI9Qfio"
      },
      "execution_count": 14,
      "outputs": []
    }
  ]
}