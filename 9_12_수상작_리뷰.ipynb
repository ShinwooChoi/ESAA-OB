{
  "nbformat": 4,
  "nbformat_minor": 0,
  "metadata": {
    "colab": {
      "provenance": [],
      "authorship_tag": "ABX9TyOStdhvhsgfbmFsYPsIj2Jj",
      "include_colab_link": true
    },
    "kernelspec": {
      "name": "python3",
      "display_name": "Python 3"
    },
    "language_info": {
      "name": "python"
    }
  },
  "cells": [
    {
      "cell_type": "markdown",
      "metadata": {
        "id": "view-in-github",
        "colab_type": "text"
      },
      "source": [
        "<a href=\"https://colab.research.google.com/github/ShinwooChoi/ESAA-OB/blob/main/9_12_%EC%88%98%EC%83%81%EC%9E%91_%EB%A6%AC%EB%B7%B0.ipynb\" target=\"_parent\"><img src=\"https://colab.research.google.com/assets/colab-badge.svg\" alt=\"Open In Colab\"/></a>"
      ]
    },
    {
      "cell_type": "markdown",
      "source": [
        "## 건설공사 사고 예방 및 대응책 생성 : 한솔데코 시즌3 생성 AI 경진대회\n",
        "\n",
        "https://dacon.io/competitions/official/236455/overview/description"
      ],
      "metadata": {
        "id": "BErtgXAlAVAO"
      }
    },
    {
      "cell_type": "markdown",
      "source": [
        "###[주제]\n",
        "건설공사 안전사고 대응 및 재발방지 대책 AI 모델 개발\n",
        "\n",
        "\n",
        "\n",
        "###[설명]\n",
        "건설공사 사고 상황 데이터를 바탕으로 사고 원인을 분석하고 재발방지 대책을 포함한 대응책을 자동으로 생성하는 AI 모델을 개발"
      ],
      "metadata": {
        "id": "pM9HcXz4AVfh"
      }
    },
    {
      "cell_type": "markdown",
      "source": [
        "###[탐색적 데이터 분석 및 프로젝트 목표]\n",
        "\n",
        "빈도 기준 상위 5개의 ‘재발방지대책 및 향후조치계획’을 살펴보면 답변의 모호성, 표현의 반복성, 대응의 획일성 등으로 ‘안전교육 실시’, ‘재발 방지 대책’, ‘향후 조치 계획’ 등의 유의미하지 않은 문장임을 확인함.\n",
        "\n",
        "때문에, train.csv 데이터는 학습 시 미세 조정으로 활용하기 어렵고 검증 시 우수한 답변인지를 평가하기 어려운 한계점을 가짐.\n",
        "\n",
        "본 프로젝트에서는 LLM의 사전 지식과 건설공사 도메인 외부 지식을 최대한 활용하는 언어 모델 추론 방법론을 제안함.\n",
        "\n",
        "추가적으로, 대응책을 자동으로 생성하는 AI 모델링 뿐만이 아닌 1) LLM 기반 학습 데이터 구축 전략, 2) 도메인 특화 평가 지표 설계 등 건설 사고 대응 시스템 개발을 목표로 함.\n",
        "\n",
        "###[데이터 결측치 처리]\n",
        "\n",
        "Train.csv에서 사고 맥락 이해에 중요한 인적사고, 공종, 사고객체, 작업프로세스, 사고원인 변수에서 결측치가 존재하는 샘플을 제거함.\n",
        "\n",
        "Test.csv에서는 임의로 샘플을 제거할 수 없기 때문에, 결측치를 빈 문자열로 대체함.\n",
        "\n",
        "물적사고 변수는 ‘없음’ 값의 빈도가 매우 높기 때문에 물적사고의 결측치는 “없음”으로 대체함.\n",
        "\n",
        "Train.csv는 총 23,421개의 샘플에서 22,576개의 샘플로 전처리됨. (약 4%의 학습 데이터 손실이 발생함.)"
      ],
      "metadata": {
        "id": "bRzzL0SIAVdW"
      }
    },
    {
      "cell_type": "markdown",
      "source": [
        "###[연구 방법]\n",
        "\n",
        "언어 모델 추론 방법론 사용\n",
        "\n",
        "LLM 기반 대응책 답변 생성\n",
        "\n",
        "도메인 특화 평가 지표 설계\n",
        "\n",
        "Re-Ranker 추가 연구"
      ],
      "metadata": {
        "id": "I27DayRABiom"
      }
    },
    {
      "cell_type": "markdown",
      "source": [
        "###[결론 및 기대 효과]\n",
        "\n",
        "건설 공사 사고 데이터를 기반으로, 최적의 재발방지대책을 생성하는 AI 모델을 성공적으로 개발함.\n",
        "\n",
        "'사고원인', '공종', '작업프로세스', '장소', '사고객체', '부위' 등 다양한 사고 상황 특징에 대해 동적 가중치를 통한 검색 임베딩을 생성하여 맥락적으로 가장 관련성이 높은 과거 사례를 효과적으로 검색하는 시스템을 구축함.\n",
        "\n",
        "유사 사고사례 검색 시에는 문맥 이해도가 높은 다국어 임베딩 모델(IBM Granite)을 사용하고, 본 대회 평가를 위한 최종 결과 생성 및 제출 시에는 Ko-SBERT 임베딩 모델을 사용함.\n",
        "\n",
        "대응책을 생성하는 AI 모델 개발 뿐만이 아니라, 데이터 품질 문제를 극복하고 장기적으로 고품질의 건설 안전 지식 베이스를 구축하기 위한 '인간 참여형 시스템(Human-in-the-Loop System)'의 프로토타입을 설계하고 구현함.\n",
        "\n",
        "축적된 피드백 데이터는 향후 LLM 미세 조정(Fine-tuning) 또는 강화학습(RLHF, DPO 등)에 활용이 가능함.\n",
        "\n",
        "이를 통해, 재발방지대책 생성 모델의 성능은 지속적으로 개선되어 실제 현장 적용성이 높은 맞춤형 대책을 제공할 수 있음."
      ],
      "metadata": {
        "id": "BqSHhaLiAU9u"
      }
    }
  ]
}